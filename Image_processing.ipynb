{
 "cells": [
  {
   "cell_type": "markdown",
   "id": "f8b02653-2f8b-40e9-92b3-e9ee112c6d8b",
   "metadata": {},
   "source": [
    "### Part I: SORT raw images by channel"
   ]
  },
  {
   "cell_type": "code",
   "execution_count": null,
   "id": "4994da70-06bf-4500-939d-824f72c25d8a",
   "metadata": {},
   "outputs": [],
   "source": [
    "import os\n",
    "import shutil\n",
    "import glob\n",
    "\n",
    "os.chdir('/Users/Alexander.Morano/Desktop/data/2024_12_19_GPCs_final_test/remnantplate/') \n",
    "\n",
    "# Set your prefix\n",
    "prefix = 'rem_test'  # Replace this with your current prefix\n",
    "\n",
    "# Step 1: List all TIF files matching the pattern\n",
    "files = glob.glob(f\"{prefix}_Plate_R_*.TIF\")\n",
    "\n",
    "\n",
    "# Step 2: Extract the 'd0', 'd1', or 'd2' from the filenames\n",
    "prefixes = set()\n",
    "for file in files:\n",
    "    prematch = file.split('.')[0]  # Extract the relevant part like 'd0', 'd1', 'd2'\n",
    "    match = prematch[-2:]\n",
    "  \n",
    "    if match.startswith('d') and match[1] in '012':\n",
    "        prefixes.add(match)\n",
    "\n",
    "# Step 3: For each unique prefix, create a directory and move the matching files\n",
    "for prefix_match in sorted(prefixes):\n",
    "    \n",
    "    # Create directory if it doesn't exist\n",
    "    os.makedirs(prefix_match, exist_ok=True)\n",
    "    \n",
    "    # Move matching files into the respective directory\n",
    "    for file in files:\n",
    "        if prefix_match in file:\n",
    "            shutil.move(file, os.path.join(prefix_match, os.path.basename(file)))\n",
    "\n",
    "print(\"Files have been organized.\")\n"
   ]
  },
  {
   "cell_type": "markdown",
   "id": "c00cb8c5-aec9-4aab-a69c-f730880a22bd",
   "metadata": {},
   "source": [
    "Part II: use CELLPOSE to identify GFP positive cells"
   ]
  },
  {
   "cell_type": "code",
   "execution_count": null,
   "id": "1eeecb95-7908-4672-b682-3b9637c003b2",
   "metadata": {},
   "outputs": [],
   "source": [
    "import numpy as np\n",
    "import matplotlib.pyplot as plt\n",
    "from cellpose import models, io, utils\n",
    "from cellpose.io import imread\n",
    "import os\n",
    "\n",
    "modelpath = \"/Users/Alexander.Morano/Desktop/cellpose_training/10x training/models/10X_NewCyto\"\n",
    "filepath = \"/Users/Alexander.Morano/Desktop/data/2024_12_19_GPCs_final_test/remnantplate/d0/\"\n",
    "\n",
    "os.chdir(filepath)\n",
    "files = os.listdir()\n",
    "print(len(files))\n",
    "\n",
    "model = models.CellposeModel(gpu = False, pretrained_model = modelpath)\n",
    "channels = [[0,0]]\n",
    "\n",
    "for i in files:\n",
    "    image = io.imread(i)\n",
    "    masks, flows, styles = model.eval(image, diameter = 60.0, channels = channels)\n",
    "    io.save_rois(masks, i)"
   ]
  },
  {
   "cell_type": "markdown",
   "id": "6a9838de-2b02-493b-bda5-39ec300a5811",
   "metadata": {},
   "source": [
    "### Part III: Rename and reoganize resulting files."
   ]
  },
  {
   "cell_type": "code",
   "execution_count": null,
   "id": "c2d92f70-7d07-47b4-8c28-6adf65729620",
   "metadata": {},
   "outputs": [],
   "source": [
    "import os\n",
    "\n",
    "fileLocation = \"/Users/Alexander.Morano/Desktop/data/2024_12_19_GPCs_final_test/titration/d2/\"\n",
    "fileList = os.listdir(fileLocation)\n",
    "print(fileList)\n",
    "\n",
    "for ii in fileList:\n",
    "    newName = ii.replace('d2','d0_rois')\n",
    "    if newName != ii:\n",
    "        os.rename(fileLocation+ii,fileLocation+newName)\n",
    "print(fileList)"
   ]
  },
  {
   "cell_type": "code",
   "execution_count": null,
   "id": "be7594ab-266f-431b-9645-8fbad0d83844",
   "metadata": {},
   "outputs": [],
   "source": [
    "import glob\n",
    "import shutil\n",
    "\n",
    "source_files = \"/Users/Alexander.Morano/Desktop/data/2024_12_19_GPCs_final_test/titration/d0/*.zip\"\n",
    "target_folder = \"/Users/Alexander.Morano/Desktop/data/2024_12_19_GPCs_final_test/titration/d2/\"\n",
    "\n",
    "# retrieve file list\n",
    "filelist = glob.glob(source_files)\n",
    "for single_file in filelist:\n",
    "     # move file with full paths as shutil.move() parameters\n",
    "    shutil.move(single_file,target_folder) "
   ]
  },
  {
   "cell_type": "markdown",
   "id": "6419b282-1769-4fa2-b369-3fb21a5b53b4",
   "metadata": {},
   "source": [
    "### Part IV: After Running FIJI macro on output of 2+3; sort by well."
   ]
  },
  {
   "cell_type": "code",
   "execution_count": null,
   "id": "98de4e42-c808-4f79-85ba-60055bf14c01",
   "metadata": {},
   "outputs": [],
   "source": [
    "import os\n",
    "import shutil\n",
    "import glob\n",
    "\n",
    "os.chdir(\"/Users/Alexander.Morano/Desktop/data/2024_12_19_GPCs_final_test/remnantplate/results/\") \n",
    "\n",
    "# Set your prefix\n",
    "prefix = 'rem_test'  \n",
    "# Replace this with your current prefix\n",
    "\n",
    "# Step 1: List all files matching the pattern\n",
    "files = glob.glob(f\"{prefix}_Plate_R_p00_0_*\")\n",
    "\n",
    "# Step 2: Extract the well name from this title.\n",
    "prefixes = set()\n",
    "for file in files:\n",
    "    prematch = file.split('_')[6]\n",
    "    \n",
    "    match = prematch[:3]\n",
    "    print(match)\n",
    "  \n",
    "    if match[0] in ('ABCDEFGH') and match[2] in '0123456789':\n",
    "        prefixes.add(match)\n",
    "\n",
    "# Step 3: For each unique prefix, create a directory and move the matching files\n",
    "for prefix_match in sorted(prefixes):\n",
    "    \n",
    "    # Create directory if it doesn't exist\n",
    "    os.makedirs(prefix_match, exist_ok=True)\n",
    "    \n",
    "    # Move matching files into the respective directory\n",
    "    for file in files:\n",
    "        if prefix_match in file:\n",
    "            shutil.move(file, os.path.join(prefix_match, os.path.basename(file)))\n",
    "\n",
    "print(\"Files have been organized AGAIN.\")\n"
   ]
  },
  {
   "cell_type": "markdown",
   "id": "d1e7c184-ba85-463a-86e4-1ad1472e6bbf",
   "metadata": {},
   "source": [
    "Part V: Combine CSVs and produce output CSVs and graphs"
   ]
  },
  {
   "cell_type": "code",
   "execution_count": null,
   "id": "3fbbacbd-9de1-493d-89ce-37f764096506",
   "metadata": {},
   "outputs": [],
   "source": [
    "import os \n",
    "import pandas as pd\n",
    "import matplotlib.pyplot as plt\n",
    "\n",
    "root_path = \"/Users/Alexander.Morano/Desktop/data/2024_12_19_GPCs_final_test/remnantplate/results/\"\n",
    "\n",
    "for root, sub, files in os.walk(root_path):\n",
    "    filenames = [os.path.join(root, filename) for filename in files \n",
    "                 if filename.endswith('.csv')]\n",
    "    \n",
    "    flist = []\n",
    "    plt.clf()\n",
    "    for filename in filenames:\n",
    "        print(os.path.join(root, filename))\n",
    "        df = pd.read_csv(filename)\n",
    "        flist.append(df)\n",
    "        df_out = pd.concat(flist)\n",
    "        df_out.loc['mean of cells'] = df_out.mean()\n",
    "        df_out.to_csv(os.path.join(root, 'combined.csv'))\n",
    "        fig = df_out['Mean'].hist(bins=[0, 100, 500, 1000, 2000, 3000, 4000])\n",
    "        plt.savefig(os.path.join(root, 'fig'))\n",
    "      "
   ]
  },
  {
   "cell_type": "markdown",
   "id": "a9b84f09-0818-490f-95b5-c615daaa0d8a",
   "metadata": {},
   "source": [
    "Part VI: add M images to the same subdirectories"
   ]
  },
  {
   "cell_type": "code",
   "execution_count": null,
   "id": "9b3be8ec-52e2-4cb1-9b5b-62b20c041281",
   "metadata": {},
   "outputs": [],
   "source": [
    "import os\n",
    "import shutil\n",
    "import glob\n",
    "\n",
    "os.chdir(\"/Users/Alexander.Morano/Desktop/data/2024_12_19_GPCs_final_test/remnantplate/results/\") \n",
    "\n",
    "# Set your prefix\n",
    "prefix = 'rem_test'  # Replace this with your current prefix\n",
    "\n",
    "# Step 1: List all files matching the pattern\n",
    "files = glob.glob(f\"{prefix}_Plate_M_p00_0_*\")\n",
    "\n",
    "# Step 2: Extract the well name from this title.\n",
    "prefixes = set()\n",
    "for file in files:\n",
    "    prematch = file.split('_')[6]\n",
    "    \n",
    "    match = prematch[:3]\n",
    "    print(match)\n",
    "  \n",
    "    if match[0] in ('ABCDEFGH') and match[2] in '0123456789':\n",
    "        prefixes.add(match)\n",
    "\n",
    "# Step 3: For each unique prefix, create a directory and move the matching files\n",
    "for prefix_match in sorted(prefixes):\n",
    "    \n",
    "    # Create directory if it doesn't exist\n",
    "    os.makedirs(prefix_match, exist_ok=True)\n",
    "    \n",
    "    # Move matching files into the respective directory\n",
    "    for file in files:\n",
    "        if prefix_match in file:\n",
    "            shutil.move(file, os.path.join(prefix_match, os.path.basename(file)))\n",
    "\n",
    "print(\"Files have been organized AGAIN.\")"
   ]
  },
  {
   "cell_type": "markdown",
   "id": "c52e3aae-1c47-46e4-994f-34e25ce43307",
   "metadata": {},
   "source": [
    "Part VII: Finally, you can generate a csv telling you which wells are positive and which are negative!"
   ]
  },
  {
   "cell_type": "code",
   "execution_count": null,
   "id": "c96b0bb0-2d56-446e-aded-dad8b7cc8081",
   "metadata": {},
   "outputs": [],
   "source": [
    "import os \n",
    "import pandas as pd\n",
    "import matplotlib.pyplot as plt\n",
    "\n",
    "root_path = '/Users/Alexander.Morano/Desktop/data/2024_12_19_GPCs_final_test/humanplate/results_35diam/'\n",
    "\n",
    "overall_quant = []\n",
    "\n",
    "for root, sub, files in os.walk(root_path):\n",
    "\n",
    "   filenames = [os.path.join(root, filename) for filename in files \n",
    "                 if filename.startswith('combined')]\n",
    "   \n",
    "   for filename in filenames:\n",
    "        print(os.path.join(root, filename))\n",
    "        x = os.path.join(root, filename)\n",
    "        y = x.split('/')[-2]\n",
    "        df = pd.read_csv(filename)\n",
    "        mean_combined = df['Mean'].mean()\n",
    "       \n",
    "        if mean_combined > 100: #you can change this value depending on the intensity of the far red channel\n",
    "            result = 'Positive'\n",
    "        else:\n",
    "            result = 'Negative'\n",
    "                \n",
    "        overall_quant.append({'Subfolder': y, 'Data': mean_combined, 'Results': result})\n",
    "        \n",
    "\n",
    "oqdf = pd.DataFrame(overall_quant)\n",
    "sorted_oqdf = oqdf.sort_values(by='Subfolder')\n",
    "print(sorted_oqdf)\n",
    "sorted_oqdf.to_csv('/Users/Alexander.Morano/Desktop/data/2024_12_19_GPCs_final_test/humanplate/results_35diam/finalresultsalpha.csv')"
   ]
  }
 ],
 "metadata": {
  "kernelspec": {
   "display_name": "Python 3 (ipykernel)",
   "language": "python",
   "name": "python3"
  },
  "language_info": {
   "codemirror_mode": {
    "name": "ipython",
    "version": 3
   },
   "file_extension": ".py",
   "mimetype": "text/x-python",
   "name": "python",
   "nbconvert_exporter": "python",
   "pygments_lexer": "ipython3",
   "version": "3.10.15"
  }
 },
 "nbformat": 4,
 "nbformat_minor": 5
}
